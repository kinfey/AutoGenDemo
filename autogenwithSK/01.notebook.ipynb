{
 "cells": [
  {
   "cell_type": "code",
   "execution_count": 1,
   "metadata": {},
   "outputs": [
    {
     "name": "stdout",
     "output_type": "stream",
     "text": [
      "Requirement already satisfied: semantic-kernel in /Users/lokinfey/conda/envs/skdev/lib/python3.10/site-packages (0.9.1b1)\n",
      "Requirement already satisfied: aiofiles<24.0.0,>=23.1.0 in /Users/lokinfey/conda/envs/skdev/lib/python3.10/site-packages (from semantic-kernel) (23.2.1)\n",
      "Requirement already satisfied: aiohttp<4.0,>=3.8 in /Users/lokinfey/conda/envs/skdev/lib/python3.10/site-packages (from semantic-kernel) (3.9.3)\n",
      "Requirement already satisfied: defusedxml<0.8.0,>=0.7.1 in /Users/lokinfey/conda/envs/skdev/lib/python3.10/site-packages (from semantic-kernel) (0.7.1)\n",
      "Requirement already satisfied: motor<4.0.0,>=3.3.2 in /Users/lokinfey/conda/envs/skdev/lib/python3.10/site-packages (from semantic-kernel) (3.3.2)\n",
      "Requirement already satisfied: numpy<2.0.0,>=1.24.2 in /Users/lokinfey/conda/envs/skdev/lib/python3.10/site-packages (from semantic-kernel) (1.26.4)\n",
      "Requirement already satisfied: openai>=1.0 in /Users/lokinfey/conda/envs/skdev/lib/python3.10/site-packages (from semantic-kernel) (1.12.0)\n",
      "Requirement already satisfied: openapi_core<0.19.0,>=0.18.0 in /Users/lokinfey/conda/envs/skdev/lib/python3.10/site-packages (from semantic-kernel) (0.18.2)\n",
      "Requirement already satisfied: prance<24.0.0.0,>=23.6.21.0 in /Users/lokinfey/conda/envs/skdev/lib/python3.10/site-packages (from semantic-kernel) (23.6.21.0)\n",
      "Requirement already satisfied: pydantic>2 in /Users/lokinfey/conda/envs/skdev/lib/python3.10/site-packages (from semantic-kernel) (2.6.1)\n",
      "Requirement already satisfied: python-dotenv==1.0.1 in /Users/lokinfey/conda/envs/skdev/lib/python3.10/site-packages (from semantic-kernel) (1.0.1)\n",
      "Requirement already satisfied: regex<2024.0.0,>=2023.6.3 in /Users/lokinfey/conda/envs/skdev/lib/python3.10/site-packages (from semantic-kernel) (2023.12.25)\n",
      "Requirement already satisfied: aiosignal>=1.1.2 in /Users/lokinfey/conda/envs/skdev/lib/python3.10/site-packages (from aiohttp<4.0,>=3.8->semantic-kernel) (1.3.1)\n",
      "Requirement already satisfied: attrs>=17.3.0 in /Users/lokinfey/conda/envs/skdev/lib/python3.10/site-packages (from aiohttp<4.0,>=3.8->semantic-kernel) (23.2.0)\n",
      "Requirement already satisfied: frozenlist>=1.1.1 in /Users/lokinfey/conda/envs/skdev/lib/python3.10/site-packages (from aiohttp<4.0,>=3.8->semantic-kernel) (1.4.1)\n",
      "Requirement already satisfied: multidict<7.0,>=4.5 in /Users/lokinfey/conda/envs/skdev/lib/python3.10/site-packages (from aiohttp<4.0,>=3.8->semantic-kernel) (6.0.5)\n",
      "Requirement already satisfied: yarl<2.0,>=1.0 in /Users/lokinfey/conda/envs/skdev/lib/python3.10/site-packages (from aiohttp<4.0,>=3.8->semantic-kernel) (1.9.4)\n",
      "Requirement already satisfied: async-timeout<5.0,>=4.0 in /Users/lokinfey/conda/envs/skdev/lib/python3.10/site-packages (from aiohttp<4.0,>=3.8->semantic-kernel) (4.0.3)\n",
      "Requirement already satisfied: pymongo<5,>=4.5 in /Users/lokinfey/conda/envs/skdev/lib/python3.10/site-packages (from motor<4.0.0,>=3.3.2->semantic-kernel) (4.6.1)\n",
      "Requirement already satisfied: anyio<5,>=3.5.0 in /Users/lokinfey/conda/envs/skdev/lib/python3.10/site-packages (from openai>=1.0->semantic-kernel) (4.2.0)\n",
      "Requirement already satisfied: distro<2,>=1.7.0 in /Users/lokinfey/conda/envs/skdev/lib/python3.10/site-packages (from openai>=1.0->semantic-kernel) (1.9.0)\n",
      "Requirement already satisfied: httpx<1,>=0.23.0 in /Users/lokinfey/conda/envs/skdev/lib/python3.10/site-packages (from openai>=1.0->semantic-kernel) (0.26.0)\n",
      "Requirement already satisfied: sniffio in /Users/lokinfey/conda/envs/skdev/lib/python3.10/site-packages (from openai>=1.0->semantic-kernel) (1.3.0)\n",
      "Requirement already satisfied: tqdm>4 in /Users/lokinfey/conda/envs/skdev/lib/python3.10/site-packages (from openai>=1.0->semantic-kernel) (4.66.2)\n",
      "Requirement already satisfied: typing-extensions<5,>=4.7 in /Users/lokinfey/conda/envs/skdev/lib/python3.10/site-packages (from openai>=1.0->semantic-kernel) (4.9.0)\n",
      "Requirement already satisfied: asgiref<4.0.0,>=3.6.0 in /Users/lokinfey/conda/envs/skdev/lib/python3.10/site-packages (from openapi_core<0.19.0,>=0.18.0->semantic-kernel) (3.7.2)\n",
      "Requirement already satisfied: isodate in /Users/lokinfey/conda/envs/skdev/lib/python3.10/site-packages (from openapi_core<0.19.0,>=0.18.0->semantic-kernel) (0.6.1)\n",
      "Requirement already satisfied: jsonschema<5.0.0,>=4.18.0 in /Users/lokinfey/conda/envs/skdev/lib/python3.10/site-packages (from openapi_core<0.19.0,>=0.18.0->semantic-kernel) (4.21.1)\n",
      "Requirement already satisfied: jsonschema-spec<0.3.0,>=0.2.3 in /Users/lokinfey/conda/envs/skdev/lib/python3.10/site-packages (from openapi_core<0.19.0,>=0.18.0->semantic-kernel) (0.2.4)\n",
      "Requirement already satisfied: more-itertools in /Users/lokinfey/conda/envs/skdev/lib/python3.10/site-packages (from openapi_core<0.19.0,>=0.18.0->semantic-kernel) (10.2.0)\n",
      "Requirement already satisfied: openapi-schema-validator<0.7.0,>=0.6.0 in /Users/lokinfey/conda/envs/skdev/lib/python3.10/site-packages (from openapi_core<0.19.0,>=0.18.0->semantic-kernel) (0.6.2)\n",
      "Requirement already satisfied: openapi-spec-validator<0.8.0,>=0.7.1 in /Users/lokinfey/conda/envs/skdev/lib/python3.10/site-packages (from openapi_core<0.19.0,>=0.18.0->semantic-kernel) (0.7.1)\n",
      "Requirement already satisfied: parse in /Users/lokinfey/conda/envs/skdev/lib/python3.10/site-packages (from openapi_core<0.19.0,>=0.18.0->semantic-kernel) (1.20.1)\n",
      "Requirement already satisfied: werkzeug in /Users/lokinfey/conda/envs/skdev/lib/python3.10/site-packages (from openapi_core<0.19.0,>=0.18.0->semantic-kernel) (3.0.1)\n",
      "Requirement already satisfied: chardet>=3.0 in /Users/lokinfey/conda/envs/skdev/lib/python3.10/site-packages (from prance<24.0.0.0,>=23.6.21.0->semantic-kernel) (5.2.0)\n",
      "Requirement already satisfied: ruamel.yaml>=0.17.10 in /Users/lokinfey/conda/envs/skdev/lib/python3.10/site-packages (from prance<24.0.0.0,>=23.6.21.0->semantic-kernel) (0.18.6)\n",
      "Requirement already satisfied: requests>=2.25 in /Users/lokinfey/conda/envs/skdev/lib/python3.10/site-packages (from prance<24.0.0.0,>=23.6.21.0->semantic-kernel) (2.31.0)\n",
      "Requirement already satisfied: six~=1.15 in /Users/lokinfey/conda/envs/skdev/lib/python3.10/site-packages (from prance<24.0.0.0,>=23.6.21.0->semantic-kernel) (1.16.0)\n",
      "Requirement already satisfied: packaging>=21.3 in /Users/lokinfey/conda/envs/skdev/lib/python3.10/site-packages (from prance<24.0.0.0,>=23.6.21.0->semantic-kernel) (23.2)\n",
      "Requirement already satisfied: annotated-types>=0.4.0 in /Users/lokinfey/conda/envs/skdev/lib/python3.10/site-packages (from pydantic>2->semantic-kernel) (0.6.0)\n",
      "Requirement already satisfied: pydantic-core==2.16.2 in /Users/lokinfey/conda/envs/skdev/lib/python3.10/site-packages (from pydantic>2->semantic-kernel) (2.16.2)\n",
      "Requirement already satisfied: idna>=2.8 in /Users/lokinfey/conda/envs/skdev/lib/python3.10/site-packages (from anyio<5,>=3.5.0->openai>=1.0->semantic-kernel) (3.6)\n",
      "Requirement already satisfied: exceptiongroup>=1.0.2 in /Users/lokinfey/conda/envs/skdev/lib/python3.10/site-packages (from anyio<5,>=3.5.0->openai>=1.0->semantic-kernel) (1.2.0)\n",
      "Requirement already satisfied: certifi in /Users/lokinfey/conda/envs/skdev/lib/python3.10/site-packages (from httpx<1,>=0.23.0->openai>=1.0->semantic-kernel) (2024.2.2)\n",
      "Requirement already satisfied: httpcore==1.* in /Users/lokinfey/conda/envs/skdev/lib/python3.10/site-packages (from httpx<1,>=0.23.0->openai>=1.0->semantic-kernel) (1.0.2)\n",
      "Requirement already satisfied: h11<0.15,>=0.13 in /Users/lokinfey/conda/envs/skdev/lib/python3.10/site-packages (from httpcore==1.*->httpx<1,>=0.23.0->openai>=1.0->semantic-kernel) (0.14.0)\n",
      "Requirement already satisfied: jsonschema-specifications>=2023.03.6 in /Users/lokinfey/conda/envs/skdev/lib/python3.10/site-packages (from jsonschema<5.0.0,>=4.18.0->openapi_core<0.19.0,>=0.18.0->semantic-kernel) (2023.7.1)\n",
      "Requirement already satisfied: referencing>=0.28.4 in /Users/lokinfey/conda/envs/skdev/lib/python3.10/site-packages (from jsonschema<5.0.0,>=4.18.0->openapi_core<0.19.0,>=0.18.0->semantic-kernel) (0.30.2)\n",
      "Requirement already satisfied: rpds-py>=0.7.1 in /Users/lokinfey/conda/envs/skdev/lib/python3.10/site-packages (from jsonschema<5.0.0,>=4.18.0->openapi_core<0.19.0,>=0.18.0->semantic-kernel) (0.18.0)\n",
      "Requirement already satisfied: PyYAML>=5.1 in /Users/lokinfey/conda/envs/skdev/lib/python3.10/site-packages (from jsonschema-spec<0.3.0,>=0.2.3->openapi_core<0.19.0,>=0.18.0->semantic-kernel) (6.0.1)\n",
      "Requirement already satisfied: pathable<0.5.0,>=0.4.1 in /Users/lokinfey/conda/envs/skdev/lib/python3.10/site-packages (from jsonschema-spec<0.3.0,>=0.2.3->openapi_core<0.19.0,>=0.18.0->semantic-kernel) (0.4.3)\n",
      "Requirement already satisfied: rfc3339-validator in /Users/lokinfey/conda/envs/skdev/lib/python3.10/site-packages (from openapi-schema-validator<0.7.0,>=0.6.0->openapi_core<0.19.0,>=0.18.0->semantic-kernel) (0.1.4)\n",
      "Requirement already satisfied: jsonschema-path<0.4.0,>=0.3.1 in /Users/lokinfey/conda/envs/skdev/lib/python3.10/site-packages (from openapi-spec-validator<0.8.0,>=0.7.1->openapi_core<0.19.0,>=0.18.0->semantic-kernel) (0.3.2)\n",
      "Requirement already satisfied: lazy-object-proxy<2.0.0,>=1.7.1 in /Users/lokinfey/conda/envs/skdev/lib/python3.10/site-packages (from openapi-spec-validator<0.8.0,>=0.7.1->openapi_core<0.19.0,>=0.18.0->semantic-kernel) (1.10.0)\n",
      "Requirement already satisfied: dnspython<3.0.0,>=1.16.0 in /Users/lokinfey/conda/envs/skdev/lib/python3.10/site-packages (from pymongo<5,>=4.5->motor<4.0.0,>=3.3.2->semantic-kernel) (2.5.0)\n",
      "Requirement already satisfied: charset-normalizer<4,>=2 in /Users/lokinfey/conda/envs/skdev/lib/python3.10/site-packages (from requests>=2.25->prance<24.0.0.0,>=23.6.21.0->semantic-kernel) (3.3.2)\n",
      "Requirement already satisfied: urllib3<3,>=1.21.1 in /Users/lokinfey/conda/envs/skdev/lib/python3.10/site-packages (from requests>=2.25->prance<24.0.0.0,>=23.6.21.0->semantic-kernel) (2.2.0)\n",
      "Requirement already satisfied: ruamel.yaml.clib>=0.2.7 in /Users/lokinfey/conda/envs/skdev/lib/python3.10/site-packages (from ruamel.yaml>=0.17.10->prance<24.0.0.0,>=23.6.21.0->semantic-kernel) (0.2.8)\n",
      "Requirement already satisfied: MarkupSafe>=2.1.1 in /Users/lokinfey/conda/envs/skdev/lib/python3.10/site-packages (from werkzeug->openapi_core<0.19.0,>=0.18.0->semantic-kernel) (2.1.5)\n",
      "Requirement already satisfied: qdrant_client in /Users/lokinfey/conda/envs/skdev/lib/python3.10/site-packages (1.8.0)\n",
      "Requirement already satisfied: grpcio>=1.41.0 in /Users/lokinfey/conda/envs/skdev/lib/python3.10/site-packages (from qdrant_client) (1.60.1)\n",
      "Requirement already satisfied: grpcio-tools>=1.41.0 in /Users/lokinfey/conda/envs/skdev/lib/python3.10/site-packages (from qdrant_client) (1.60.1)\n",
      "Requirement already satisfied: httpx>=0.14.0 in /Users/lokinfey/conda/envs/skdev/lib/python3.10/site-packages (from httpx[http2]>=0.14.0->qdrant_client) (0.26.0)\n",
      "Requirement already satisfied: numpy>=1.21 in /Users/lokinfey/conda/envs/skdev/lib/python3.10/site-packages (from qdrant_client) (1.26.4)\n",
      "Requirement already satisfied: portalocker<3.0.0,>=2.7.0 in /Users/lokinfey/conda/envs/skdev/lib/python3.10/site-packages (from qdrant_client) (2.8.2)\n",
      "Requirement already satisfied: pydantic>=1.10.8 in /Users/lokinfey/conda/envs/skdev/lib/python3.10/site-packages (from qdrant_client) (2.6.1)\n",
      "Requirement already satisfied: urllib3<3,>=1.26.14 in /Users/lokinfey/conda/envs/skdev/lib/python3.10/site-packages (from qdrant_client) (2.2.0)\n",
      "Requirement already satisfied: protobuf<5.0dev,>=4.21.6 in /Users/lokinfey/conda/envs/skdev/lib/python3.10/site-packages (from grpcio-tools>=1.41.0->qdrant_client) (4.25.2)\n",
      "Requirement already satisfied: setuptools in /Users/lokinfey/conda/envs/skdev/lib/python3.10/site-packages (from grpcio-tools>=1.41.0->qdrant_client) (69.0.3)\n",
      "Requirement already satisfied: anyio in /Users/lokinfey/conda/envs/skdev/lib/python3.10/site-packages (from httpx>=0.14.0->httpx[http2]>=0.14.0->qdrant_client) (4.2.0)\n",
      "Requirement already satisfied: certifi in /Users/lokinfey/conda/envs/skdev/lib/python3.10/site-packages (from httpx>=0.14.0->httpx[http2]>=0.14.0->qdrant_client) (2024.2.2)\n",
      "Requirement already satisfied: httpcore==1.* in /Users/lokinfey/conda/envs/skdev/lib/python3.10/site-packages (from httpx>=0.14.0->httpx[http2]>=0.14.0->qdrant_client) (1.0.2)\n",
      "Requirement already satisfied: idna in /Users/lokinfey/conda/envs/skdev/lib/python3.10/site-packages (from httpx>=0.14.0->httpx[http2]>=0.14.0->qdrant_client) (3.6)\n",
      "Requirement already satisfied: sniffio in /Users/lokinfey/conda/envs/skdev/lib/python3.10/site-packages (from httpx>=0.14.0->httpx[http2]>=0.14.0->qdrant_client) (1.3.0)\n",
      "Requirement already satisfied: h11<0.15,>=0.13 in /Users/lokinfey/conda/envs/skdev/lib/python3.10/site-packages (from httpcore==1.*->httpx>=0.14.0->httpx[http2]>=0.14.0->qdrant_client) (0.14.0)\n",
      "Requirement already satisfied: h2<5,>=3 in /Users/lokinfey/conda/envs/skdev/lib/python3.10/site-packages (from httpx[http2]>=0.14.0->qdrant_client) (4.1.0)\n",
      "Requirement already satisfied: annotated-types>=0.4.0 in /Users/lokinfey/conda/envs/skdev/lib/python3.10/site-packages (from pydantic>=1.10.8->qdrant_client) (0.6.0)\n",
      "Requirement already satisfied: pydantic-core==2.16.2 in /Users/lokinfey/conda/envs/skdev/lib/python3.10/site-packages (from pydantic>=1.10.8->qdrant_client) (2.16.2)\n",
      "Requirement already satisfied: typing-extensions>=4.6.1 in /Users/lokinfey/conda/envs/skdev/lib/python3.10/site-packages (from pydantic>=1.10.8->qdrant_client) (4.9.0)\n",
      "Requirement already satisfied: hyperframe<7,>=6.0 in /Users/lokinfey/conda/envs/skdev/lib/python3.10/site-packages (from h2<5,>=3->httpx[http2]>=0.14.0->qdrant_client) (6.0.1)\n",
      "Requirement already satisfied: hpack<5,>=4.0 in /Users/lokinfey/conda/envs/skdev/lib/python3.10/site-packages (from h2<5,>=3->httpx[http2]>=0.14.0->qdrant_client) (4.0.0)\n",
      "Requirement already satisfied: exceptiongroup>=1.0.2 in /Users/lokinfey/conda/envs/skdev/lib/python3.10/site-packages (from anyio->httpx>=0.14.0->httpx[http2]>=0.14.0->qdrant_client) (1.2.0)\n"
     ]
    }
   ],
   "source": [
    "! pip install semantic-kernel -U \n",
    "! pip install qdrant_client -U "
   ]
  },
  {
   "cell_type": "code",
   "execution_count": 2,
   "metadata": {},
   "outputs": [],
   "source": [
    "import os\n",
    "import json"
   ]
  },
  {
   "cell_type": "code",
   "execution_count": 3,
   "metadata": {},
   "outputs": [],
   "source": [
    "import semantic_kernel as sk\n",
    "from dotenv import load_dotenv\n",
    "import semantic_kernel.connectors.ai.open_ai as skaoai"
   ]
  },
  {
   "cell_type": "code",
   "execution_count": 4,
   "metadata": {},
   "outputs": [],
   "source": [
    "kernel = sk.Kernel()\n",
    "deployment, api_key, endpoint = sk.azure_openai_settings_from_dot_env()"
   ]
  },
  {
   "cell_type": "code",
   "execution_count": 5,
   "metadata": {},
   "outputs": [],
   "source": [
    "gpt4_service = skaoai.AzureChatCompletion(\"GPT4Model\",endpoint,api_key=api_key,api_version = \"2023-12-01-preview\")\n",
    "\n",
    "embedding_gen = skaoai.AzureTextEmbedding(\"EmbeddingModel\", endpoint,api_key=api_key,api_version = \"2023-12-01-preview\")"
   ]
  },
  {
   "cell_type": "code",
   "execution_count": 6,
   "metadata": {},
   "outputs": [],
   "source": [
    "kernel.add_service(gpt4_service)\n",
    "\n",
    "\n",
    "kernel.add_service(embedding_gen)"
   ]
  },
  {
   "cell_type": "code",
   "execution_count": 7,
   "metadata": {},
   "outputs": [],
   "source": [
    "base_plugin = \"./plugins\""
   ]
  },
  {
   "cell_type": "code",
   "execution_count": 8,
   "metadata": {},
   "outputs": [],
   "source": [
    "files_plugin = kernel.import_plugin_from_prompt_directory(base_plugin , \"FilePlugin\")"
   ]
  },
  {
   "cell_type": "code",
   "execution_count": 9,
   "metadata": {},
   "outputs": [],
   "source": [
    "nodes_files = os.listdir(\"./data/notes\")\n",
    "transcrips_files = os.listdir(\"./data/transcripts\")"
   ]
  },
  {
   "cell_type": "code",
   "execution_count": 10,
   "metadata": {},
   "outputs": [],
   "source": [
    "kblist = []"
   ]
  },
  {
   "cell_type": "code",
   "execution_count": 11,
   "metadata": {},
   "outputs": [
    {
     "name": "stdout",
     "output_type": "stream",
     "text": [
      "{\"kb\": \"History of machine learning\", \"content\": \"The history of machine learning and artificial intelligence is marked by significant discoveries and periods of progress and stagnation. Notable discoveries include Bayes Theorem (1763, 1812), Least Square Theory (1805), Markov Chains (1913), Perceptron (1957), Nearest Neighbor (1967), Backpropagation (1970), and Recurrent Neural Networks (1982). Key periods include the conceptualization of 'machines that can think' by Alan Turing in 1950, the Dartmouth Summer Research Project in 1956, the 'golden years' of AI from 1956 to 1974, the 'AI Winter' from 1974 to 1980 due to limitations and criticisms, the rise of 'expert systems' in the 1980s, the 'AI Chill' from 1987 to 1993 due to over-specialization, and the resurgence of ML and AI from 1993 to 2011 due to increased data and computational power. Today, ML and AI are integral parts of our lives, necessitating careful understanding of their impacts.\"}\n",
      "{\n",
      "\"kb\": \"Techniques of Machine Learning\",\n",
      "\"content\": \"The process of machine learning involves several steps: deciding on the question, collecting and preparing data, choosing a training method, training the model, evaluating the model, parameter tuning, and prediction. Before building a model, tasks such as data collection and preparation, feature and target selection, data visualization, and dataset splitting are necessary. The model is built using training data and a chosen training method. The model's quality is evaluated using test data. If necessary, the model can be improved by tweaking its 'hyperparameters'. Finally, new data is used to test the model's accuracy.\"\n",
      "}\n",
      "{\"kb\": \"Introduction to machine learning\", \"content\": \"This section introduces machine learning (ML), a subset of artificial intelligence (AI) that uses algorithms to find hidden patterns in data for decision-making. It explains the need for machine learning, its applications, and its real-world examples. The course covers core concepts of ML, its history, fairness, regression, classification, clustering, natural language processing, time series forecasting, and reinforcement learning techniques. However, it does not cover deep learning, neural networks, and AI. The section also explains the setup required to start with machine learning, including Python, Node.js, JavaScript, GitHub account, and Scikit-learn.\"}\n"
     ]
    }
   ],
   "source": [
    "for f in nodes_files:\n",
    "    file = open(\"./data/notes/\"+f, \"r\") \n",
    "    content = file.read()\n",
    "    notesFunc = files_plugin[\"Notes\"]\n",
    "    result = await kernel.invoke(notesFunc, sk.KernelArguments(input=content))\n",
    "    # result = await notesFunc(content)\n",
    "    print(result) \n",
    "    json_result = json.loads(str(result))\n",
    "    kblist.append(json_result)\n",
    "    file.close()"
   ]
  },
  {
   "cell_type": "code",
   "execution_count": 12,
   "metadata": {},
   "outputs": [
    {
     "name": "stdout",
     "output_type": "stream",
     "text": [
      "[\n",
      "{\"kb\": \"Alan Turing and the Turing test\", \"content\": \"Alan Turing laid the foundation for the concept of a machine that can think. He created the Turing test in 1950, where an interrogator questions both a human and a computer and tries to determine which one is which. If the interrogator cannot tell the difference, then the computer can be considered intelligent.\"},\n",
      "{\"kb\": \"The Dartmouth Summer Research Project on AI\", \"content\": \"In 1956, the term artificial intelligence was coined at Dartmouth College in the U.S during an event called the summer research project on artificial intelligence. This conference was the birth of the field of research we know as AI.\"},\n",
      "{\"kb\": \"The golden years of AI\", \"content\": \"The years from 1956 to 1974 are known as The Golden Ears of AI. During this period, optimism ran high in the hope that AI could solve many problems. Advances were made in computation and algorithms, and prototypes of intelligent machines were built.\"},\n",
      "{\"kb\": \"The AI winter\", \"content\": \"By the mid-1970s, it had become apparent that the complexity of making intelligent machines had been understated and that its promise had been overblown. Funding dried up and confidence in the field slowed, marking the beginning of what is called an AI winter.\"},\n",
      "{\"kb\": \"Resurgence and fall of AI for expert systems\", \"content\": \"In the 1980s, as computers became more powerful, expert systems became more successful. There was a resurgence in optimism about AI as businesses found practical applications of these rule-based inference systems. However, by the late 80s, it was becoming apparent that expert systems had become too specialized and were unlikely to achieve machine intelligence.\"},\n",
      "{\"kb\": \"Growth in AI driven by more data and more powerful hardware\", \"content\": \"In the mid-1990s, compute and storage capabilities grew exponentially, making it possible to process much larger data sets than ever before. The rise of the internet and the popularity of smartphones both contributed to increasing amounts of data and new experiments in machine learning became possible.\"},\n",
      "{\"kb\": \"Big Data\", \"content\": \"In the past decade, compute power and the size of data sets have continued to grow and machine learning has become capable of solving even more problems. Today, machine learning touches almost every part of our lives.\"},\n",
      "{\"kb\": \"Increased awareness of ethical and responsible AI\", \"content\": \"This era has also been marked by an increased awareness of potential ethical issues in machine learning and by significant research in the field of responsible AI. We want the benefits of AI but we also want AI that is responsible and doesn't amplify human bias.\"}\n",
      "]\n",
      "[\n",
      "{\"kb\": \"Introducing ML for Beginners\", \"content\": \"Based on Microsoft's open-source curriculum. Machine learning is popular and often misunderstood. Course starts from basics with practical examples.\"},\n",
      "{\"kb\": \"The difference between AI and ML\", \"content\": \"AI is about machines accomplishing tasks requiring human-level intelligence. Machine learning, a subset of AI, uses algorithms to make decisions from data. Deep learning, a subset of machine learning, uses neural networks.\"},\n",
      "{\"kb\": \"What you'll learn in this course\", \"content\": \"Covers classical machine learning. Includes core concepts, history, statistical techniques like regression, classification, clustering.\"},\n",
      "{\"kb\": \"What you won't learn in this course\", \"content\": \"Course doesn't cover data science, deep learning, neural networks, and AI techniques other than machine learning. Microsoft offers additional courses for these areas.\"},\n",
      "{\"kb\": \"Why study Machine Learning\", \"content\": \"Machine learning solves complex real-world problems in many areas. Applications are almost everywhere due to the ubiquity of data. Understanding basics of machine learning is beneficial.\"}\n",
      "]\n",
      "[\n",
      "{\"kb\": \"Decide if AI is the right approach\", \"content\": \"AI is suitable for problems where solutions can be extracted from data. If a problem can be defined using precise rules, traditional programming is a better choice. AI is a promising approach if plenty of data containing useful information about the solution is available.\", \"summary\": \"AI for data-driven problems, traditional programming for rule-based problems\"},\n",
      "\n",
      "{\"kb\": \"Collect and prepare data\", \"content\": \"After deciding AI is the right method, collect and prepare your data. This may involve normalizing it, converting it to a different form, or removing rows with missing fields. Decide which aspects of your data or features you're going to use as input to your prediction and which feature you want to predict. Split your data into training and test sets.\", \"summary\": \"Collect, prepare, normalize data, decide features, split data\"},\n",
      "\n",
      "{\"kb\": \"Train your model\", \"content\": \"Choose a machine learning algorithm. If undecided between a few good algorithms, try them all and see which one performs best. Train your model using the training set you collected earlier and the algorithm you chose. Training a model may take a while, especially if the model is large.\", \"summary\": \"Choose algorithm, train model, consider model size\"},\n",
      "\n",
      "{\"kb\": \"Evaluate your model\", \"content\": \"Once the model is trained, test it using the test data set that you split earlier. It's important to test the algorithm with data that it hasn't seen during training to ensure that it generalizes well to new scenarios.\", \"summary\": \"Test trained model, ensure generalization\"},\n",
      "\n",
      "{\"kb\": \"Tune the hyperparameters\", \"content\": \"Some algorithms contain hyperparameters, which are settings that control key aspects of their inner workings. Choosing good hyperparameters is important because they can make a big difference in your results. If you want to be systematic about your hyperparameter search, you can write code that tries lots of different combinations and helps you discover the best values for your data.\", \"summary\": \"Choose hyperparameters, try combinations, discover best values\"},\n",
      "\n",
      "{\"kb\": \"Test the model in the real world\", \"content\": \"Once you get good test results, it's time to see how well your model performs within the context of its intended use. This could involve collecting live data from a sensor and using it to make predictions or deploying a model to a few users of your application. If it all looks good, then you're ready to release it to production and enjoy its benefits.\", \"summary\": \"Test model in real-world, collect live data, deploy model\"}\n",
      "]\n"
     ]
    }
   ],
   "source": [
    "for f in transcrips_files:\n",
    "    file = open(\"./data/transcripts/\"+f, \"r\") \n",
    "    content = file.read()\n",
    "    transcripsFunc = files_plugin[\"Transcrips\"]\n",
    "    result = await kernel.invoke(transcripsFunc, sk.KernelArguments(input=content))\n",
    "    print(result)\n",
    "    json_result = json.loads(str(result))\n",
    "    for item in json_result:\n",
    "        kblist.append(item)\n",
    "    file.close()"
   ]
  },
  {
   "cell_type": "code",
   "execution_count": 13,
   "metadata": {},
   "outputs": [
    {
     "data": {
      "text/plain": [
       "[{'kb': 'History of machine learning',\n",
       "  'content': \"The history of machine learning and artificial intelligence is marked by significant discoveries and periods of progress and stagnation. Notable discoveries include Bayes Theorem (1763, 1812), Least Square Theory (1805), Markov Chains (1913), Perceptron (1957), Nearest Neighbor (1967), Backpropagation (1970), and Recurrent Neural Networks (1982). Key periods include the conceptualization of 'machines that can think' by Alan Turing in 1950, the Dartmouth Summer Research Project in 1956, the 'golden years' of AI from 1956 to 1974, the 'AI Winter' from 1974 to 1980 due to limitations and criticisms, the rise of 'expert systems' in the 1980s, the 'AI Chill' from 1987 to 1993 due to over-specialization, and the resurgence of ML and AI from 1993 to 2011 due to increased data and computational power. Today, ML and AI are integral parts of our lives, necessitating careful understanding of their impacts.\"},\n",
       " {'kb': 'Techniques of Machine Learning',\n",
       "  'content': \"The process of machine learning involves several steps: deciding on the question, collecting and preparing data, choosing a training method, training the model, evaluating the model, parameter tuning, and prediction. Before building a model, tasks such as data collection and preparation, feature and target selection, data visualization, and dataset splitting are necessary. The model is built using training data and a chosen training method. The model's quality is evaluated using test data. If necessary, the model can be improved by tweaking its 'hyperparameters'. Finally, new data is used to test the model's accuracy.\"},\n",
       " {'kb': 'Introduction to machine learning',\n",
       "  'content': 'This section introduces machine learning (ML), a subset of artificial intelligence (AI) that uses algorithms to find hidden patterns in data for decision-making. It explains the need for machine learning, its applications, and its real-world examples. The course covers core concepts of ML, its history, fairness, regression, classification, clustering, natural language processing, time series forecasting, and reinforcement learning techniques. However, it does not cover deep learning, neural networks, and AI. The section also explains the setup required to start with machine learning, including Python, Node.js, JavaScript, GitHub account, and Scikit-learn.'},\n",
       " {'kb': 'Alan Turing and the Turing test',\n",
       "  'content': 'Alan Turing laid the foundation for the concept of a machine that can think. He created the Turing test in 1950, where an interrogator questions both a human and a computer and tries to determine which one is which. If the interrogator cannot tell the difference, then the computer can be considered intelligent.'},\n",
       " {'kb': 'The Dartmouth Summer Research Project on AI',\n",
       "  'content': 'In 1956, the term artificial intelligence was coined at Dartmouth College in the U.S during an event called the summer research project on artificial intelligence. This conference was the birth of the field of research we know as AI.'},\n",
       " {'kb': 'The golden years of AI',\n",
       "  'content': 'The years from 1956 to 1974 are known as The Golden Ears of AI. During this period, optimism ran high in the hope that AI could solve many problems. Advances were made in computation and algorithms, and prototypes of intelligent machines were built.'},\n",
       " {'kb': 'The AI winter',\n",
       "  'content': 'By the mid-1970s, it had become apparent that the complexity of making intelligent machines had been understated and that its promise had been overblown. Funding dried up and confidence in the field slowed, marking the beginning of what is called an AI winter.'},\n",
       " {'kb': 'Resurgence and fall of AI for expert systems',\n",
       "  'content': 'In the 1980s, as computers became more powerful, expert systems became more successful. There was a resurgence in optimism about AI as businesses found practical applications of these rule-based inference systems. However, by the late 80s, it was becoming apparent that expert systems had become too specialized and were unlikely to achieve machine intelligence.'},\n",
       " {'kb': 'Growth in AI driven by more data and more powerful hardware',\n",
       "  'content': 'In the mid-1990s, compute and storage capabilities grew exponentially, making it possible to process much larger data sets than ever before. The rise of the internet and the popularity of smartphones both contributed to increasing amounts of data and new experiments in machine learning became possible.'},\n",
       " {'kb': 'Big Data',\n",
       "  'content': 'In the past decade, compute power and the size of data sets have continued to grow and machine learning has become capable of solving even more problems. Today, machine learning touches almost every part of our lives.'},\n",
       " {'kb': 'Increased awareness of ethical and responsible AI',\n",
       "  'content': \"This era has also been marked by an increased awareness of potential ethical issues in machine learning and by significant research in the field of responsible AI. We want the benefits of AI but we also want AI that is responsible and doesn't amplify human bias.\"},\n",
       " {'kb': 'Introducing ML for Beginners',\n",
       "  'content': \"Based on Microsoft's open-source curriculum. Machine learning is popular and often misunderstood. Course starts from basics with practical examples.\"},\n",
       " {'kb': 'The difference between AI and ML',\n",
       "  'content': 'AI is about machines accomplishing tasks requiring human-level intelligence. Machine learning, a subset of AI, uses algorithms to make decisions from data. Deep learning, a subset of machine learning, uses neural networks.'},\n",
       " {'kb': \"What you'll learn in this course\",\n",
       "  'content': 'Covers classical machine learning. Includes core concepts, history, statistical techniques like regression, classification, clustering.'},\n",
       " {'kb': \"What you won't learn in this course\",\n",
       "  'content': \"Course doesn't cover data science, deep learning, neural networks, and AI techniques other than machine learning. Microsoft offers additional courses for these areas.\"},\n",
       " {'kb': 'Why study Machine Learning',\n",
       "  'content': 'Machine learning solves complex real-world problems in many areas. Applications are almost everywhere due to the ubiquity of data. Understanding basics of machine learning is beneficial.'},\n",
       " {'kb': 'Decide if AI is the right approach',\n",
       "  'content': 'AI is suitable for problems where solutions can be extracted from data. If a problem can be defined using precise rules, traditional programming is a better choice. AI is a promising approach if plenty of data containing useful information about the solution is available.',\n",
       "  'summary': 'AI for data-driven problems, traditional programming for rule-based problems'},\n",
       " {'kb': 'Collect and prepare data',\n",
       "  'content': \"After deciding AI is the right method, collect and prepare your data. This may involve normalizing it, converting it to a different form, or removing rows with missing fields. Decide which aspects of your data or features you're going to use as input to your prediction and which feature you want to predict. Split your data into training and test sets.\",\n",
       "  'summary': 'Collect, prepare, normalize data, decide features, split data'},\n",
       " {'kb': 'Train your model',\n",
       "  'content': 'Choose a machine learning algorithm. If undecided between a few good algorithms, try them all and see which one performs best. Train your model using the training set you collected earlier and the algorithm you chose. Training a model may take a while, especially if the model is large.',\n",
       "  'summary': 'Choose algorithm, train model, consider model size'},\n",
       " {'kb': 'Evaluate your model',\n",
       "  'content': \"Once the model is trained, test it using the test data set that you split earlier. It's important to test the algorithm with data that it hasn't seen during training to ensure that it generalizes well to new scenarios.\",\n",
       "  'summary': 'Test trained model, ensure generalization'},\n",
       " {'kb': 'Tune the hyperparameters',\n",
       "  'content': 'Some algorithms contain hyperparameters, which are settings that control key aspects of their inner workings. Choosing good hyperparameters is important because they can make a big difference in your results. If you want to be systematic about your hyperparameter search, you can write code that tries lots of different combinations and helps you discover the best values for your data.',\n",
       "  'summary': 'Choose hyperparameters, try combinations, discover best values'},\n",
       " {'kb': 'Test the model in the real world',\n",
       "  'content': \"Once you get good test results, it's time to see how well your model performs within the context of its intended use. This could involve collecting live data from a sensor and using it to make predictions or deploying a model to a few users of your application. If it all looks good, then you're ready to release it to production and enjoy its benefits.\",\n",
       "  'summary': 'Test model in real-world, collect live data, deploy model'}]"
      ]
     },
     "execution_count": 13,
     "metadata": {},
     "output_type": "execute_result"
    }
   ],
   "source": [
    "kblist"
   ]
  },
  {
   "cell_type": "code",
   "execution_count": 14,
   "metadata": {},
   "outputs": [],
   "source": [
    "base_vectordb = 'aboutMLKBDemoDemo'"
   ]
  },
  {
   "cell_type": "code",
   "execution_count": 15,
   "metadata": {},
   "outputs": [],
   "source": [
    "\n",
    "from semantic_kernel.connectors.memory.qdrant import QdrantMemoryStore"
   ]
  },
  {
   "cell_type": "code",
   "execution_count": 16,
   "metadata": {},
   "outputs": [],
   "source": [
    "qdrant_store = QdrantMemoryStore(vector_size=1536, url=\"http://localhost\",port=6333)\n",
    "await qdrant_store.create_collection(base_vectordb)"
   ]
  },
  {
   "cell_type": "code",
   "execution_count": 17,
   "metadata": {},
   "outputs": [],
   "source": [
    "from semantic_kernel.memory.semantic_text_memory import SemanticTextMemory"
   ]
  },
  {
   "cell_type": "code",
   "execution_count": 18,
   "metadata": {},
   "outputs": [],
   "source": [
    "memory = SemanticTextMemory(storage=qdrant_store, embeddings_generator=embedding_gen)"
   ]
  },
  {
   "cell_type": "code",
   "execution_count": 19,
   "metadata": {},
   "outputs": [],
   "source": [
    "import uuid"
   ]
  },
  {
   "cell_type": "code",
   "execution_count": 20,
   "metadata": {},
   "outputs": [
    {
     "data": {
      "text/plain": [
       "UUID('19852eeb-3b9c-4c70-9591-6f6d7af9f823')"
      ]
     },
     "execution_count": 20,
     "metadata": {},
     "output_type": "execute_result"
    }
   ],
   "source": [
    "uuid.uuid4()"
   ]
  },
  {
   "cell_type": "code",
   "execution_count": 21,
   "metadata": {},
   "outputs": [],
   "source": [
    "for item in kblist:\n",
    "    content = item[\"kb\"] + ' - ' + item[\"content\"]\n",
    "    id =str(uuid.uuid4())\n",
    "    await memory.save_information(base_vectordb, id=id, text=content)"
   ]
  },
  {
   "cell_type": "code",
   "execution_count": 22,
   "metadata": {},
   "outputs": [],
   "source": [
    "ask = \"can you tell me what is different ML and AI\"\n",
    "\n",
    "memories = await memory.search(\n",
    "    base_vectordb, ask, limit=1, min_relevance_score=0.8\n",
    ")"
   ]
  },
  {
   "cell_type": "code",
   "execution_count": 23,
   "metadata": {},
   "outputs": [
    {
     "name": "stdout",
     "output_type": "stream",
     "text": [
      "Top Result: The difference between AI and ML - AI is about machines accomplishing tasks requiring human-level intelligence. Machine learning, a subset of AI, uses algorithms to make decisions from data. Deep learning, a subset of machine learning, uses neural networks. with score 0.89723134\n"
     ]
    }
   ],
   "source": [
    "result = ''\n",
    "for memory in memories:\n",
    "    print(f\"Top Result: {memory.text} with score {memory.relevance}\")\n",
    "    result = memory.text"
   ]
  },
  {
   "cell_type": "code",
   "execution_count": 24,
   "metadata": {},
   "outputs": [],
   "source": [
    "answer_plugin = kernel.import_plugin_from_prompt_directory(base_plugin , \"AnswerPlugin\")"
   ]
  },
  {
   "cell_type": "code",
   "execution_count": 25,
   "metadata": {},
   "outputs": [],
   "source": [
    "sumFunc = answer_plugin[\"Summary\"]"
   ]
  },
  {
   "cell_type": "code",
   "execution_count": 26,
   "metadata": {},
   "outputs": [],
   "source": [
    "\n",
    "summary_result = await kernel.invoke(sumFunc, sk.KernelArguments(input=result))"
   ]
  },
  {
   "cell_type": "code",
   "execution_count": 29,
   "metadata": {},
   "outputs": [
    {
     "data": {
      "text/plain": [
       "'AI, or Artificial Intelligence, refers to machines performing tasks that usually require human intelligence. Machine Learning, a part of AI, involves using algorithms to make decisions based on data. Deep Learning, a subset of Machine Learning, utilizes neural networks. In essence, all three are interconnected, with AI being the broadest concept, Machine Learning being a method to achieve AI, and Deep Learning being a specialized type of Machine Learning.'"
      ]
     },
     "execution_count": 29,
     "metadata": {},
     "output_type": "execute_result"
    }
   ],
   "source": [
    "str(summary_result)"
   ]
  }
 ],
 "metadata": {
  "kernelspec": {
   "display_name": "pydev",
   "language": "python",
   "name": "python3"
  },
  "language_info": {
   "codemirror_mode": {
    "name": "ipython",
    "version": 3
   },
   "file_extension": ".py",
   "mimetype": "text/x-python",
   "name": "python",
   "nbconvert_exporter": "python",
   "pygments_lexer": "ipython3",
   "version": "3.10.12"
  }
 },
 "nbformat": 4,
 "nbformat_minor": 2
}
